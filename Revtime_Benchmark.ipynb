{
  "nbformat": 4,
  "nbformat_minor": 0,
  "metadata": {
    "colab": {
      "name": "Revtime_Benchmark.ipynb",
      "private_outputs": true,
      "provenance": [],
      "collapsed_sections": [],
      "authorship_tag": "ABX9TyPwFMsR9vihlZQjln4YvJoN",
      "include_colab_link": true
    },
    "kernelspec": {
      "name": "python3",
      "display_name": "Python 3"
    },
    "language_info": {
      "name": "python"
    },
    "accelerator": "GPU"
  },
  "cells": [
    {
      "cell_type": "markdown",
      "metadata": {
        "id": "view-in-github",
        "colab_type": "text"
      },
      "source": [
        "<a href=\"https://colab.research.google.com/github/ssmhrkw/Acoustics_public/blob/master/Revtime_Benchmark.ipynb\" target=\"_parent\"><img src=\"https://colab.research.google.com/assets/colab-badge.svg\" alt=\"Open In Colab\"/></a>"
      ]
    },
    {
      "cell_type": "markdown",
      "metadata": {
        "id": "6AP5zczjZfiT"
      },
      "source": [
        "[Benchmark problems for Building Acoustics](http://news-sv.aij.or.jp/kankyo/s24/benchmark/a11/a11_j.html)\n",
        "\n",
        "if you have any question contact me : sh[atmark]kenken.go.jp\n",
        "\n",
        "\n",
        "参考にしたページ：\n",
        "[日本音響エンジニアリング株式会社　室内音響の測定　－インパルス応答の読み方－](https://www.noe.co.jp/technology/04/04inv1.html)\n",
        "[有閑是宝](http://samuiui.com/2019/07/17/インパルス応答から残響時間を計算するpython/)\n"
      ]
    },
    {
      "cell_type": "code",
      "metadata": {
        "id": "D3hK6NKrZjnU"
      },
      "source": [
        "import numpy as np\n",
        "import pandas as pd\n",
        "import matplotlib.pyplot as plt\n",
        "from scipy.io.wavfile import read"
      ],
      "execution_count": null,
      "outputs": []
    },
    {
      "cell_type": "code",
      "metadata": {
        "id": "Aw0h0YJScD3D"
      },
      "source": [
        "# ここのセルは1度以上Runするといっぱい保存される（保存先ってどこなんだろう）\n",
        "!wget http://news-sv.aij.or.jp/kankyo/s24/benchmark/a11/a11.wav\n",
        "!wget http://news-sv.aij.or.jp/kankyo/s24/benchmark/a12/a12.wav\n",
        "!wget http://news-sv.aij.or.jp/kankyo/s24/benchmark/a13/a13.wav\n",
        "\n",
        "!wget http://news-sv.aij.or.jp/kankyo/s24/benchmark/b11/b11.wav\n",
        "!wget http://news-sv.aij.or.jp/kankyo/s24/benchmark/b12/b12.wav\n",
        "\n",
        "\n",
        "!wget http://news-sv.aij.or.jp/kankyo/s24/benchmark/c11/c11.wav\n",
        "!wget http://news-sv.aij.or.jp/kankyo/s24/benchmark/c12/c12.wav\n"
      ],
      "execution_count": null,
      "outputs": []
    },
    {
      "cell_type": "code",
      "metadata": {
        "id": "wx-85DerZoD1"
      },
      "source": [
        "def butter_bandpass(lowcut, highcut, order, fs):\n",
        "    \"\"\"\n",
        "    Created on Thu Nov 22\n",
        "    The function for bandpass filter\n",
        "\n",
        "    Parameters\n",
        "    ----------\n",
        "    lowcut:\n",
        "        lower frequency side of the butter worth band pass filter in hz\n",
        "    highcut:\n",
        "        higher frequency side of the butter worth band pass filter in Hz\n",
        "    order:\n",
        "        Order of the butter-worth filter\n",
        "    fs:\n",
        "        Sampling frequency\n",
        "    Returns\n",
        "    -------\n",
        "    sos:\n",
        "        coefficient for sosfilt.\n",
        "    \"\"\"\n",
        "\n",
        "    from scipy.signal import butter\n",
        "    sos = butter(order, [lowcut / (fs / 2), highcut / (fs / 2)],\n",
        "                 btype='bandpass',\n",
        "                 analog=False,\n",
        "                 output='sos')\n",
        "    return sos"
      ],
      "execution_count": null,
      "outputs": []
    },
    {
      "cell_type": "code",
      "metadata": {
        "id": "HzngNzJhZs8E"
      },
      "source": [
        "def octaveband_filter(data, fs, sec, order, how):\n",
        "    \"\"\"\n",
        "    Created on Thu Nov 22\n",
        "    Butterworth bandpass filter\n",
        "\n",
        "    Parameters\n",
        "    ----------\n",
        "    data:\n",
        "        input discrete signal\n",
        "    fs:\n",
        "        Sampling frequency\n",
        "    sec:\n",
        "        duration of input in integer, (s)\n",
        "    order:\n",
        "        ~ order butter-worth filter, usually 6 see - 'https://bksv.com/~/media/literature/Product%20Data/bp0163.ashx'\n",
        "    how:\n",
        "        OB (31.5~1000(6) or TOB (25~1600(19))\n",
        "\n",
        "    Returns\n",
        "    -------\n",
        "    fc:\n",
        "        centre frequency bands (Octave or one-third octave)\n",
        "    y:\n",
        "        Filtered signal\n",
        "    \"\"\"\n",
        "\n",
        "    import numpy as np\n",
        "    from scipy.signal import sosfilt\n",
        "\n",
        "    if how == 'OB':\n",
        "        n = 1\n",
        "        fc = np.array([(10**(i / 10)) * 1000 for i in range(-15, 9, 3)])\n",
        "        fd = 2**(1 / 2 / n)  # Base 2 (OB)\n",
        "    elif how == 'TOB':\n",
        "        n = 3\n",
        "        fc = np.array([(10**(i / 10)) * 1000 for i in range(-16, 3)])\n",
        "        fd = 2**(1 / 2 / n)  # Base 10 (TOB)\n",
        "\n",
        "    flo = fc / fd\n",
        "    fhi = fc * fd\n",
        "    lowcut = flo\n",
        "    highcut = fhi\n",
        "\n",
        "    y = np.zeros([np.size(fc), int(sec * fs)])\n",
        "    for i in range(np.size(fc)):\n",
        "        sos = butter_bandpass(lowcut[i], highcut[i], order, fs)\n",
        "        y[i, :] = sosfilt(sos, data)\n",
        "    return y, fc"
      ],
      "execution_count": null,
      "outputs": []
    },
    {
      "cell_type": "code",
      "metadata": {
        "id": "8CEM5ZyBZv0J"
      },
      "source": [
        "def twlf_sos(x, fs, twlf):\n",
        "    \"\"\"\n",
        "    Created on Thu Nov 22\n",
        "    This function time-weights the CPB-filtered signal\n",
        "\n",
        "    Parameters\n",
        "    ----------\n",
        "    x:\n",
        "        Discrete signal\n",
        "    fs:\n",
        "        Sampling frequency\n",
        "    twlf:\n",
        "        time-weighting coefficient 'F' for fast (0.125s) or 'S' for slow (1s)\n",
        "\n",
        "    Returns\n",
        "    -------\n",
        "    y:\n",
        "        Fast or slow time-weighted discrete signal.(sqrt2 conversion is required)\n",
        "    \"\"\"\n",
        "\n",
        "    from scipy.signal import butter, sosfilt\n",
        "    import numpy as np\n",
        "\n",
        "    if twlf == 'F':\n",
        "        tau = 1 / 8\n",
        "    elif twlf == 'S':\n",
        "        tau = 1\n",
        "    elif twlf == 'RT':\n",
        "        tau = 12800\n",
        "\n",
        "    lowcut = 1 / (2 * np.pi * tau)\n",
        "    sos = butter(1, [lowcut / fs], btype='low', analog=False, output='sos')\n",
        "    y = sosfilt(sos, x**2)\n",
        "    y = np.sqrt(y)\n",
        "    return y"
      ],
      "execution_count": null,
      "outputs": []
    },
    {
      "cell_type": "code",
      "metadata": {
        "id": "l_rG33ribTeo"
      },
      "source": [
        "fs, input_signal = read('c11.wav') #file名はa11,a12,a13,b11,b12,c11,c12のいずれか\n",
        "\n",
        "query = 'EDT'\n",
        "sec = (len(input_signal) / fs)\n",
        "\n",
        "# Octave band pass filter\n",
        "input_bandpassed, oct_cent_freq = octaveband_filter(\n",
        "    input_signal, fs, sec, 6, 'OB')  #from 31.5 to 4000k in base 10 exact\n",
        "\n",
        "if query == 'RT':\n",
        "    levelstart = -5\n",
        "    Tx = [5, 10, 20, 30, 60]  # Define Tx\n",
        "    columns = ['T5', 'T10', 'T20', 'T30', 'T60']\n",
        "\n",
        "elif query == 'EDT':\n",
        "    levelstart = 0\n",
        "    Tx = [10]  # Define Tx\n",
        "    columns = ['EDT(0to-10dB)']\n",
        "\n",
        "revtime = np.zeros((len(input_bandpassed), len(Tx)))\n",
        "\n",
        "for numdldB in range(len(Tx)):\n",
        "    factor = 60 / Tx[numdldB]\n",
        "    for j in range(len(input_bandpassed)):\n",
        "\n",
        "        # compute decay curve\n",
        "        input_bandpassed_squared = input_bandpassed[j]**2.0\n",
        "        input_bandpassed_squared_sum = np.sum(input_bandpassed_squared)\n",
        "        temp = input_bandpassed_squared_sum\n",
        "        curve = []\n",
        "\n",
        "        for i in range(len(input_signal)):\n",
        "            temp = temp - input_bandpassed_squared[i]\n",
        "            curve.append(temp)\n",
        "\n",
        "        curve_dB = 10.0 * np.log10(curve)\n",
        "        normalised_decay_curve = curve_dB - max(curve_dB)\n",
        "\n",
        "        start = np.argmax(normalised_decay_curve < levelstart, axis=0)\n",
        "        end = np.argmax(normalised_decay_curve < (-1 * Tx[numdldB] - 5),\n",
        "                        axis=0)\n",
        "\n",
        "        Revcurve = normalised_decay_curve[start:end]\n",
        "\n",
        "        # linear regression for regression target\n",
        "        x = np.linspace(start, end, end - start)\n",
        "        a, b = np.polyfit(x, Revcurve, 1)\n",
        "\n",
        "        # Reverberation time\n",
        "        revtime[j, numdldB] = (-1.0 * Tx[numdldB] / a) * factor / fs"
      ],
      "execution_count": null,
      "outputs": []
    },
    {
      "cell_type": "code",
      "metadata": {
        "id": "FFrX2K1xcqks"
      },
      "source": [
        "outputdf = pd.DataFrame(data=np.round(revtime, 3),\n",
        "                        index=np.round(oct_cent_freq, 2),\n",
        "                        columns=columns)\n",
        "outputdf"
      ],
      "execution_count": null,
      "outputs": []
    },
    {
      "cell_type": "code",
      "metadata": {
        "id": "QtaUcjOHdWp2"
      },
      "source": [
        ""
      ],
      "execution_count": null,
      "outputs": []
    }
  ]
}